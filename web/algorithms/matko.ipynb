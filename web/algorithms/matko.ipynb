{
 "cells": [
  {
   "cell_type": "code",
   "execution_count": 1,
   "metadata": {
    "metadata": {}
   },
   "outputs": [],
   "source": [
    "import pandas as pd\n",
    "from datetime import datetime, timedelta\n"
   ]
  },
  {
   "cell_type": "code",
   "execution_count": 2,
   "metadata": {
    "metadata": {}
   },
   "outputs": [],
   "source": [
    "\n",
    "import pandas as pd\n",
    "from datetime import datetime, timedelta\n",
    "\n",
    "beh_columns = ['ID', 'UserID', 'Time', 'History', 'Impression']\n",
    "beh_df = pd.read_csv('behaviors.tsv', sep='\\t', names=beh_columns, usecols=[0, 1, 2, 3, 4])\n",
    "\n",
    "news_columns = ['ID', 'Category', 'Subcategory', 'Title', 'Abstract']\n",
    "news_df = pd.read_csv('news.tsv', sep='\\t', names=news_columns, usecols=[0, 1, 2, 3, 4])\n"
   ]
  },
  {
   "cell_type": "code",
   "execution_count": 18,
   "metadata": {
    "metadata": {}
   },
   "outputs": [
    {
     "name": "stdout",
     "output_type": "stream",
     "text": [
      "['N287-1' 'N59673-1' 'N51048-1' 'N47061-1' 'N34876-1']\n"
     ]
    }
   ],
   "source": [
    "from most_popular_recommender import most_popular_recommender\n",
    "from tf_idf_recommender import tf_idf_cosine_recommender\n",
    "import numpy as np\n",
    "\n",
    "from similiar_category_combinations import sim_cat_rec\n",
    "from random_recommender import random_rating_recommender\n",
    "\n",
    "def get_ids_old_24(beh_df, date):\n",
    "\t\n",
    "\tdate_ = datetime.strptime(date, '%m/%d/%Y %I:%M:%S %p')\n",
    "\tstart_date_ = date_ - timedelta(hours=1)\n",
    "\n",
    "\tbeh_df_copy = beh_df.copy()\n",
    "\n",
    "\t# Convert the 'Time' column to datetime objects\n",
    "\tbeh_df_copy['Time'] = pd.to_datetime(beh_df_copy['Time'], format='%m/%d/%Y %I:%M:%S %p')\n",
    "\n",
    "\t# Filter the DataFrame based on the 'Time' column\n",
    "\tfiltered_df = beh_df_copy[(beh_df_copy['Time'] >= start_date_) & (beh_df_copy['Time'] <= date)]\n",
    "\tsplit_ids = filtered_df['Impression'].str.split()\n",
    "\t\n",
    "\tall_article_ids = []\n",
    "\n",
    "\tfor ids in split_ids:\n",
    "\t\tfor id in ids:\n",
    "\t\t\tif id.endswith('1'):\n",
    "\t\t\t\tall_article_ids.append(id)\n",
    "\n",
    "\treturn all_article_ids\n",
    "\n",
    "def best_score_ids(ids, scores_array):\n",
    "\n",
    "\tdf = pd.DataFrame({'scores': scores_array, 'id': range(len(scores_array))})\n",
    "\n",
    "\tdf['ImpressionID'] = [(ids[i]).split(\"-\")[0] for i in df['id']]\n",
    "\tdf = df.drop_duplicates(subset='ImpressionID')\n",
    "\ttop_5_impression_ids = df.sort_values(by='scores', ascending=False).head(5)['ImpressionID'].values\n",
    "\n",
    "\treturn top_5_impression_ids\n",
    "\n",
    "def get_reccomendations():\n",
    "\trow_id = 46\n",
    "\n",
    "\tdate = beh_df[beh_df['ID'] == row_id]['Time'].values[0]\n",
    "\trow_unique = beh_df.iloc[[row_id]].copy()\n",
    "\trow_unique.reset_index(drop=True, inplace=True)\n",
    "\n",
    "\n",
    "\trow_notunique = beh_df.iloc[[row_id]].copy()\n",
    "\trow_notunique.reset_index(drop=True, inplace=True)\n",
    "\n",
    "\tids = get_ids_old_24(beh_df, date)\n",
    "\tunique_ids = list(set(ids))\n",
    "\n",
    "\trow_unique.at[0, 'Impression'] = ' '.join(unique_ids)\n",
    "\trow_notunique.at[0, 'Impression'] = ' '.join(ids)\n",
    "\n",
    "\tmost_popular = most_popular_recommender(row_notunique,news_df=[])\n",
    "\tscores = most_popular['Scores'].values[0]\n",
    "\n",
    "\tprint(best_score_ids(ids, scores))\n",
    "\n",
    "\t# print(tf_idf_cosine_recommender(row_unique, news_df))\n",
    "\t\n",
    "\t# userid = beh_df[beh_df['ID'] == row_id]['UserID'].values[0]\n",
    "\t# print(sim_cat_rec(row_notunique, news_df, userid))\n",
    "\t\n",
    "\t# random_rating_recommender()\n",
    "\t\n",
    "\n",
    "get_reccomendations()\n",
    "\n",
    "\t"
   ]
  }
 ],
 "metadata": {
  "kernelspec": {
   "display_name": "myenv",
   "language": "python",
   "name": "python3"
  },
  "language_info": {
   "codemirror_mode": {
    "name": "ipython",
    "version": 3
   },
   "file_extension": ".py",
   "mimetype": "text/x-python",
   "name": "python",
   "nbconvert_exporter": "python",
   "pygments_lexer": "ipython3",
   "version": "3.10.0"
  }
 },
 "nbformat": 4,
 "nbformat_minor": 2
}
